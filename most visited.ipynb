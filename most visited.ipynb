{
 "cells": [
  {
   "cell_type": "code",
   "execution_count": 25,
   "id": "84b8d929-600e-4977-b25b-cf9aff5eeaa2",
   "metadata": {},
   "outputs": [],
   "source": [
    "import pandas as pd\n",
    "import statsmodels.api as sm"
   ]
  },
  {
   "cell_type": "code",
   "execution_count": 23,
   "id": "e6f1aa28-96c5-44e3-b481-abff4c8c4e5d",
   "metadata": {},
   "outputs": [],
   "source": [
    "df = pd.read_csv(\"./data/cleaned_data.csv\")"
   ]
  },
  {
   "cell_type": "code",
   "execution_count": 28,
   "id": "d199d77a-d139-46da-be16-64fd272e58ad",
   "metadata": {},
   "outputs": [
    {
     "name": "stdout",
     "output_type": "stream",
     "text": [
      "                            OLS Regression Results                            \n",
      "==============================================================================\n",
      "Dep. Variable:            vital_level   R-squared:                       0.096\n",
      "Model:                            OLS   Adj. R-squared:                  0.096\n",
      "Method:                 Least Squares   F-statistic:                     1222.\n",
      "Date:                Wed, 13 Aug 2025   Prob (F-statistic):          1.54e-254\n",
      "Time:                        21:42:13   Log-Likelihood:                -19222.\n",
      "No. Observations:               11466   AIC:                         3.845e+04\n",
      "Df Residuals:                   11464   BIC:                         3.846e+04\n",
      "Df Model:                           1                                         \n",
      "Covariance Type:            nonrobust                                         \n",
      "==============================================================================\n",
      "                 coef    std err          t      P>|t|      [0.025      0.975]\n",
      "------------------------------------------------------------------------------\n",
      "const          2.4244      0.022    112.442      0.000       2.382       2.467\n",
      "links_away     0.0838      0.002     34.961      0.000       0.079       0.088\n",
      "==============================================================================\n",
      "Omnibus:                     6625.679   Durbin-Watson:                   1.628\n",
      "Prob(Omnibus):                  0.000   Jarque-Bera (JB):              677.376\n",
      "Skew:                           0.156   Prob(JB):                    8.12e-148\n",
      "Kurtosis:                       1.851   Cond. No.                         16.2\n",
      "==============================================================================\n",
      "\n",
      "Notes:\n",
      "[1] Standard Errors assume that the covariance matrix of the errors is correctly specified.\n",
      "Interpretation: a significantly NEGATIVE slope for links_away would support ‘closer to Philosophy → higher vital level’. Positive/near‑zero slope does not.\n"
     ]
    }
   ],
   "source": [
    "# 1) Keep only pages that actually have a vital_level (>0 means rated)\n",
    "df_filtered = df[df['vital_level'] > 0].copy()\n",
    "X = sm.add_constant(df_filtered['links_away'])\n",
    "y = df_filtered['vital_level']\n",
    "ols = sm.OLS(y, X).fit()\n",
    "print(ols.summary())\n",
    "print(\"Interpretation: a significantly NEGATIVE slope for links_away would support \"\n",
    "      \"‘closer to Philosophy → higher vital level’. Positive/near‑zero slope does not.\")\n"
   ]
  },
  {
   "cell_type": "code",
   "execution_count": null,
   "id": "c385e92d-5481-4862-8064-cc986867cad0",
   "metadata": {},
   "outputs": [],
   "source": []
  },
  {
   "cell_type": "code",
   "execution_count": null,
   "id": "efa9c8a9-0b6c-47d3-a384-aab4fa1aaa37",
   "metadata": {},
   "outputs": [],
   "source": []
  }
 ],
 "metadata": {
  "kernelspec": {
   "display_name": "Python 3 (ipykernel)",
   "language": "python",
   "name": "python3"
  },
  "language_info": {
   "codemirror_mode": {
    "name": "ipython",
    "version": 3
   },
   "file_extension": ".py",
   "mimetype": "text/x-python",
   "name": "python",
   "nbconvert_exporter": "python",
   "pygments_lexer": "ipython3",
   "version": "3.11.5"
  }
 },
 "nbformat": 4,
 "nbformat_minor": 5
}
